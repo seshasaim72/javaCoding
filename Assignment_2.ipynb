{
  "nbformat": 4,
  "nbformat_minor": 0,
  "metadata": {
    "colab": {
      "provenance": [],
      "authorship_tag": "ABX9TyOW0OTtO4DjsAeqXvsV1kR2",
      "include_colab_link": true
    },
    "kernelspec": {
      "name": "python3",
      "display_name": "Python 3"
    },
    "language_info": {
      "name": "python"
    }
  },
  "cells": [
    {
      "cell_type": "markdown",
      "metadata": {
        "id": "view-in-github",
        "colab_type": "text"
      },
      "source": [
        "<a href=\"https://colab.research.google.com/github/seshasaim72/javaCoding/blob/main/Assignment_2.ipynb\" target=\"_parent\"><img src=\"https://colab.research.google.com/assets/colab-badge.svg\" alt=\"Open In Colab\"/></a>"
      ]
    },
    {
      "cell_type": "code",
      "execution_count": null,
      "metadata": {
        "colab": {
          "base_uri": "https://localhost:8080/"
        },
        "id": "GOqmIYlPJoWE",
        "outputId": "004f83d9-2059-4155-89af-d56dee55bab3"
      },
      "outputs": [
        {
          "output_type": "stream",
          "name": "stdout",
          "text": [
            "['view.jpg', 'bear.jpg', 'ball.png']\n"
          ]
        }
      ],
      "source": [
        "filename=['view.jpg','bear.jpg','ball.png']\n",
        "print(filename)"
      ]
    },
    {
      "cell_type": "code",
      "source": [
        "filename.insert(0,'phone.jpg')\n",
        "print(filename)\n",
        "filename.remove('ball.png')\n",
        "print(filename)"
      ],
      "metadata": {
        "colab": {
          "base_uri": "https://localhost:8080/"
        },
        "id": "7f-QMyWoLpcY",
        "outputId": "e2cfc997-a32c-459d-967d-9ef102522b7c"
      },
      "execution_count": null,
      "outputs": [
        {
          "output_type": "stream",
          "name": "stdout",
          "text": [
            "['phone.jpg', 'view.jpg', 'bear.jpg', 'ball.png']\n",
            "['phone.jpg', 'view.jpg', 'bear.jpg']\n"
          ]
        }
      ]
    },
    {
      "cell_type": "code",
      "source": [
        "L=[1,2,3,4,5,6,7,8,9,10]\n",
        "max=L[0]\n",
        "min=L[0]\n",
        "avg=0\n",
        "for i in L:\n",
        "  avg=i+avg\n",
        "  if(i>max):\n",
        "    max=i\n",
        "  elif(i<min):\n",
        "    min=i\n",
        "total=avg/len(L)\n",
        "\n",
        "print(\"Maximum Value is \",max)\n",
        "print(\"Minimum Value is \",min)\n",
        "print(\"Average Value is\",total)"
      ],
      "metadata": {
        "colab": {
          "base_uri": "https://localhost:8080/"
        },
        "id": "dsrEZImvLq3z",
        "outputId": "d5674855-4e93-4384-8d27-0a6a2e7c15e1"
      },
      "execution_count": null,
      "outputs": [
        {
          "output_type": "stream",
          "name": "stdout",
          "text": [
            "Maximum Value is  10\n",
            "Minimum Value is  1\n",
            "Average Value is 5.5\n"
          ]
        }
      ]
    },
    {
      "cell_type": "code",
      "source": [
        "L=[1,1,1,1,2,2,3,3,3,3,4,5]\n",
        "L1=[]\n",
        "for i in L:\n",
        "  if i not in L1:\n",
        "    L1.append(i)\n",
        "print(L1)\n"
      ],
      "metadata": {
        "colab": {
          "base_uri": "https://localhost:8080/"
        },
        "id": "7UcgiBtHMEP5",
        "outputId": "0c7ad053-57be-4077-f5e8-2df62346f4f2"
      },
      "execution_count": null,
      "outputs": [
        {
          "output_type": "stream",
          "name": "stdout",
          "text": [
            "[1, 2, 3, 4, 5]\n"
          ]
        }
      ]
    },
    {
      "cell_type": "code",
      "source": [
        "L=[1,2,3,4,[4,3]]\n",
        "print(L[4])\n",
        "# for i in L:\n",
        "#   print(i)"
      ],
      "metadata": {
        "colab": {
          "base_uri": "https://localhost:8080/"
        },
        "id": "h1pFH8xYcX-Z",
        "outputId": "2f197fdd-6888-4bda-f2c1-a6412869fde0"
      },
      "execution_count": null,
      "outputs": [
        {
          "output_type": "stream",
          "name": "stdout",
          "text": [
            "[4, 3]\n"
          ]
        }
      ]
    },
    {
      "cell_type": "code",
      "source": [],
      "metadata": {
        "id": "_sjedp3AdrHn"
      },
      "execution_count": null,
      "outputs": []
    }
  ]
}