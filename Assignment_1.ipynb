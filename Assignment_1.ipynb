{
  "nbformat": 4,
  "nbformat_minor": 0,
  "metadata": {
    "colab": {
      "provenance": [],
      "authorship_tag": "ABX9TyO3TC+vMmoTE8mzrogoWunm",
      "include_colab_link": true
    },
    "kernelspec": {
      "name": "python3",
      "display_name": "Python 3"
    },
    "language_info": {
      "name": "python"
    }
  },
  "cells": [
    {
      "cell_type": "markdown",
      "metadata": {
        "id": "view-in-github",
        "colab_type": "text"
      },
      "source": [
        "<a href=\"https://colab.research.google.com/github/seshasaim72/javaCoding/blob/main/Assignment_1.ipynb\" target=\"_parent\"><img src=\"https://colab.research.google.com/assets/colab-badge.svg\" alt=\"Open In Colab\"/></a>"
      ]
    },
    {
      "cell_type": "code",
      "execution_count": null,
      "metadata": {
        "colab": {
          "base_uri": "https://localhost:8080/"
        },
        "id": "5ZMa1__b68R2",
        "outputId": "29f390ad-6ad9-4abc-a585-da864fcb75e4"
      },
      "outputs": [
        {
          "output_type": "stream",
          "name": "stdout",
          "text": [
            "hello\n"
          ]
        }
      ],
      "source": [
        "print(\"hello\")"
      ]
    },
    {
      "cell_type": "code",
      "source": [
        "x=int(input(\"Enter the Value \"))\n",
        "if(x%3==0 and x%5==0):\n",
        "  print(\"FizzBuzz\")\n",
        "elif(x%3==0):\n",
        "  print(\"FIZZ\")\n",
        "elif(x%5==0):\n",
        "  print(\"BUZZ\")\n",
        "else:\n",
        "  print(\"Enter correct value\")"
      ],
      "metadata": {
        "colab": {
          "base_uri": "https://localhost:8080/"
        },
        "id": "P9NxL2wO7BwF",
        "outputId": "1ba512dd-bc4b-4612-9e36-1fb304e9a6dd"
      },
      "execution_count": null,
      "outputs": [
        {
          "output_type": "stream",
          "name": "stdout",
          "text": [
            "Enter the Value 15\n",
            "FizzBuzz\n"
          ]
        }
      ]
    },
    {
      "cell_type": "code",
      "source": [],
      "metadata": {
        "colab": {
          "base_uri": "https://localhost:8080/"
        },
        "id": "hJRve4RL8to7",
        "outputId": "cf5c7dcc-f7b3-4dfd-eb4c-a5670a103167"
      },
      "execution_count": null,
      "outputs": [
        {
          "output_type": "stream",
          "name": "stdout",
          "text": [
            "Do you want to Deposit or withdraw amount deposit\n",
            "Enter the amount to deposit 300\n",
            "Deposited Amount  300\n"
          ]
        }
      ]
    },
    {
      "cell_type": "code",
      "source": [
        "D=0\n",
        "while True:\n",
        "  user_input = input('Do you Want to (deposit/withdraw/cancel): ')\n",
        "  if user_input.lower() == 'deposit':\n",
        "      d_amnt=int(input(\"Enter the amount to deposit \"))\n",
        "      D=D+d_amnt\n",
        "      print(\"Deposited Amont is \",D)\n",
        "  elif user_input.lower() == 'withdraw':\n",
        "      w_amnt = int(input(\"Enter the amount to withdraw \"))\n",
        "      D=D-w_amnt\n",
        "      print(\"Withdrawn Amount \",D)\n",
        "  elif user_input.lower() == 'cancel':\n",
        "    print(\"Cancel the transaction\")\n",
        "    break\n",
        "  else:\n",
        "      print('Enter the correct value')"
      ],
      "metadata": {
        "colab": {
          "base_uri": "https://localhost:8080/"
        },
        "id": "wxWS-FcxBiVg",
        "outputId": "5ac547fa-6d56-4439-f831-a719d9abc826"
      },
      "execution_count": null,
      "outputs": [
        {
          "output_type": "stream",
          "name": "stdout",
          "text": [
            "Do you Want to (deposit/withdraw/Cancel): deposit\n",
            "Enter the amount to deposit 300\n",
            "Deposited Amont is  300\n",
            "Do you Want to (deposit/withdraw/Cancel): withdraw\n",
            "Enter the amount to deposit 100\n",
            "Withdrawn Amount  200\n",
            "Do you Want to (deposit/withdraw/Cancel): cancel\n",
            "Cancel the transaction\n"
          ]
        }
      ]
    },
    {
      "cell_type": "code",
      "source": [
        "days = 30\n",
        "min_calls = 100\n",
        "min_amnt=200\n",
        "user_input = int(input(\"No of calls per day \"))\n",
        "mnthly_calls =  user_input*days\n",
        "mnthly_amt = 0\n",
        "\n",
        "if(mnthly_calls<=100):\n",
        "  print(\"Minimum Amount for below 100 calls is \",min_amnt,\" amount has to pay\")\n",
        "elif(mnthly_calls>100 and mnthly_calls<=150):\n",
        "  print(\"Calls between range of 100 to 150 \")\n",
        "  mnthly_amt=min_amnt+((mnthly_calls-min_calls)*0.60)\n",
        "  print(\"Amount for the calls \",mnthly_amt,\" amount has to pay\")\n",
        "elif(mnthly_calls>150 and mnthly_calls<=200):\n",
        "  print(\"Calls between range of 150 to 200 \")\n",
        "  mnthly_amt=min_amnt+(50*0.60)+((mnthly_calls-min_calls-50)*0.50)#200-100-50=100-50,180-100-50=30\n",
        "  print(\"Amount for the calls \",mnthly_amt,\" amount has to pay\")\n",
        "else:\n",
        "  print(\"beyond the calls 200 \")\n",
        "  mnthly_amt=min_amnt+(50*0.60)+(50*0.50)+((mnthly_calls-min_calls*2)*0.40)\n",
        "  print(\"Amount for the calls \",mnthly_amt,\" amount has to pay\")"
      ],
      "metadata": {
        "colab": {
          "base_uri": "https://localhost:8080/"
        },
        "id": "pleW5P78FKPb",
        "outputId": "4b6d2362-dac8-4861-d101-bccb2b22a3c8"
      },
      "execution_count": null,
      "outputs": [
        {
          "output_type": "stream",
          "name": "stdout",
          "text": [
            "No of calls per day 10\n",
            "beyond the calls 200 \n",
            "Amount for the calls  295.0  amount has to pay\n"
          ]
        }
      ]
    },
    {
      "cell_type": "code",
      "source": [],
      "metadata": {
        "id": "OavRItyucHcP"
      },
      "execution_count": null,
      "outputs": []
    }
  ]
}